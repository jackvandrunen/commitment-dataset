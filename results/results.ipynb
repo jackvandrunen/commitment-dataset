{
 "cells": [
  {
   "cell_type": "code",
   "execution_count": 15,
   "metadata": {},
   "outputs": [
    {
     "name": "stdout",
     "output_type": "stream",
     "text": [
      "Wallclock time elapsed: 0.42008376121521\n"
     ]
    }
   ],
   "source": [
    "# !nim c -d:release --opt:speed --hints:off ../src/signal_first.nim\n",
    "# !../src/signal_first\n",
    "\n",
    "!nim c -d:release --opt:speed --hints:off ../src/signal_first_update.nim\n",
    "!../src/signal_first_update"
   ]
  },
  {
   "cell_type": "code",
   "execution_count": 6,
   "metadata": {},
   "outputs": [],
   "source": [
    "import json\n",
    "import numpy as np\n",
    "import matplotlib.pyplot as plt\n",
    "\n",
    "plt.rcParams.update({\n",
    "    \"text.usetex\": True})"
   ]
  },
  {
   "cell_type": "code",
   "execution_count": 11,
   "metadata": {},
   "outputs": [],
   "source": [
    "with open('signal_first.json') as f:\n",
    "    results = np.array(json.load(f)) > 0.5"
   ]
  },
  {
   "cell_type": "code",
   "execution_count": 12,
   "metadata": {},
   "outputs": [
    {
     "name": "stdout",
     "output_type": "stream",
     "text": [
      "1000\n",
      "1000\n"
     ]
    }
   ],
   "source": [
    "print(np.sum(results[:,0] != results[:,1]))\n",
    "print(np.sum(results[:,2] != results[:,3]))"
   ]
  },
  {
   "cell_type": "code",
   "execution_count": 13,
   "metadata": {},
   "outputs": [
    {
     "name": "stdout",
     "output_type": "stream",
     "text": [
      "471\n"
     ]
    }
   ],
   "source": [
    "print(np.sum(results[:,0] != results[:,2]))"
   ]
  },
  {
   "cell_type": "code",
   "execution_count": 2,
   "metadata": {},
   "outputs": [],
   "source": [
    "with open('signal_first_update.json') as f:\n",
    "    results_raw = np.array(json.load(f))\n",
    "    results = results_raw > 0.5"
   ]
  },
  {
   "cell_type": "code",
   "execution_count": 3,
   "metadata": {},
   "outputs": [
    {
     "name": "stdout",
     "output_type": "stream",
     "text": [
      "994\n"
     ]
    }
   ],
   "source": [
    "print(np.sum((results[:,1] != results[:,2]) & (results[:,3] != results[:,4])))"
   ]
  },
  {
   "cell_type": "code",
   "execution_count": 4,
   "metadata": {},
   "outputs": [
    {
     "name": "stdout",
     "output_type": "stream",
     "text": [
      "473\n"
     ]
    }
   ],
   "source": [
    "print(np.sum(results[:,1] != results[:,3]))"
   ]
  },
  {
   "cell_type": "code",
   "execution_count": 9,
   "metadata": {},
   "outputs": [
    {
     "data": {
      "image/png": "[encoded data removed]",
      "text/plain": [
       "<Figure size 432x288 with 1 Axes>"
      ]
     },
     "metadata": {
      "needs_background": "light"
     },
     "output_type": "display_data"
    }
   ],
   "source": [
    "plt.plot(np.sort(results_raw[:,0]), np.arange(1, 1001) / 1000, 'k.')\n",
    "plt.axis('square')\n",
    "plt.ylabel('Proportion of Simulations')\n",
    "plt.xlabel('Probability of Drawing $a$')\n",
    "plt.title('Signaling Urn Contents in Signal-First Model')\n",
    "plt.savefig('signaling_urn_contents.pdf')\n",
    "plt.show()"
   ]
  },
  {
   "cell_type": "code",
   "execution_count": 9,
   "metadata": {},
   "outputs": [],
   "source": [
    "def calculate_accuracy(values):\n",
    "    return values[0] * (values[1]*(1 - values[2]) + (1-values[1])*values[2]) +\\\n",
    "        (1-values[0]) * (values[3]*(1-values[4]) + (1-values[3])*values[4])"
   ]
  },
  {
   "cell_type": "code",
   "execution_count": 18,
   "metadata": {},
   "outputs": [
    {
     "data": {
      "text/plain": [
       "array([0.99959922, 0.99249699, 0.99919632, 0.99940236, 0.99919652,\n",
       "       0.99858844, 0.99920058, 0.99939759, 0.99839995, 0.99761687,\n",
       "       0.99955416, 0.99939834, 0.99959876, 0.99891607, 0.9981766 ,\n",
       "       0.99899541, 0.99940536, 0.99940512, 0.99940046, 0.99960029,\n",
       "       0.99939727, 0.99779923, 0.99960909, 0.99879381, 0.99939809,\n",
       "       0.99860659, 0.99960453, 0.99899603, 0.99919655, 0.99899517,\n",
       "       0.99959977, 0.99919652, 0.99820966, 0.99959948, 0.99940599,\n",
       "       0.99950961, 0.99919609, 0.99960235, 0.99959891, 0.98607247,\n",
       "       0.99601276, 0.99919564, 0.99696104, 0.99959875, 0.99639811,\n",
       "       0.99960035, 0.99959861, 0.99798996, 0.99939771, 0.99959896,\n",
       "       0.99959914, 0.99959916, 0.99798484, 0.99879428, 0.99860148,\n",
       "       0.99959865, 0.99959904, 0.99879257, 0.99696274, 0.99959913,\n",
       "       0.9995988 , 0.99818201, 0.9995989 , 0.99470717, 0.99959906,\n",
       "       0.99695773, 0.99778835, 0.99735566, 0.99919802, 0.99858714,\n",
       "       0.99798117, 0.9994027 , 0.99919687, 0.99275255, 0.99879274,\n",
       "       0.99899534, 0.99881163, 0.99920093, 0.99949327, 0.99939959,\n",
       "       0.99959902, 0.99776895, 0.99782097, 0.99959919, 0.9995989 ,\n",
       "       0.99879242, 0.9987317 , 0.99939803, 0.99899142, 0.98856559,\n",
       "       0.99959873, 0.99961963, 0.99959918, 0.99798734, 0.99438815,\n",
       "       0.99570705, 0.99961955, 0.99939742, 0.9995989 , 0.99959945,\n",
       "       0.99736903, 0.99939768, 0.99787482, 0.99959874, 0.99939759,\n",
       "       0.99481989, 0.99960225, 0.99919688, 0.99959941, 0.99967174,\n",
       "       0.99959932, 0.9979823 , 0.9995989 , 0.99939789, 0.99960163,\n",
       "       0.99959954, 0.99919658, 0.99959888, 0.99536524, 0.99838563,\n",
       "       0.99859946, 0.99959912, 0.99885133, 0.99919982, 0.99959978,\n",
       "       0.99939767, 0.99919885, 0.99960488, 0.99959881, 0.99939722,\n",
       "       0.99959884, 0.99923308, 0.99959931, 0.99955443, 0.99899445,\n",
       "       0.99026762, 0.9995998 , 0.99962892, 0.99960222, 0.99939865,\n",
       "       0.99919541, 0.99899616, 0.99939704, 0.9991961 , 0.99959968,\n",
       "       0.99959896, 0.99757914, 0.99959939, 0.99894613, 0.99831699,\n",
       "       0.99680263, 0.99959906, 0.99959876, 0.99920206, 0.9987918 ,\n",
       "       0.99939774, 0.99899247, 0.99273877, 0.99939677, 0.99922488,\n",
       "       0.99919544, 0.99892911, 0.99871384, 0.99858922, 0.99960202,\n",
       "       0.99939811, 0.99899479, 0.99959879, 0.99945137, 0.99959919,\n",
       "       0.99899127, 0.99745689, 0.99959968, 0.99959854, 0.99959882,\n",
       "       0.99960384, 0.99960011, 0.999599  , 0.99959988, 0.99960874,\n",
       "       0.99959999, 0.99968695, 0.99919512, 0.98759637, 0.99953643,\n",
       "       0.99899409, 0.99936094, 0.99899745, 0.99959892, 0.99959925,\n",
       "       0.99959878, 0.9957761 , 0.99959868, 0.99939817, 0.99758689,\n",
       "       0.99899686, 0.9993029 , 0.99865331, 0.9928002 , 0.99959883,\n",
       "       0.99939789, 0.9995997 , 0.9993976 , 0.9995989 , 0.99843092,\n",
       "       0.99939809, 0.9905347 , 0.99761145, 0.99959931, 0.99919532,\n",
       "       0.99799914, 0.99818663, 0.99959943, 0.9996005 , 0.99939759,\n",
       "       0.99959866, 0.99960109, 0.99939801, 0.99919736, 0.99838192,\n",
       "       0.99901041, 0.99919762, 0.99939865, 0.99919719, 0.99882218,\n",
       "       0.99899726, 0.99716035, 0.99960006, 0.99899567, 0.99880863,\n",
       "       0.99866317, 0.99939749, 0.99742321, 0.99959866, 0.99959855,\n",
       "       0.99879142, 0.99960093, 0.99798438, 0.99960191, 0.99922327,\n",
       "       0.99960365, 0.99919583, 0.99959868, 0.99939917, 0.99924384,\n",
       "       0.9979725 , 0.99674111, 0.99959869, 0.99941054, 0.99960075,\n",
       "       0.99959891, 0.9983849 , 0.99861489, 0.99959974, 0.99920103,\n",
       "       0.99551894, 0.9992291 , 0.9956924 , 0.99939783, 0.99960753,\n",
       "       0.9957585 , 0.99959868, 0.99939774, 0.99959974, 0.99959892,\n",
       "       0.99967145, 0.9995988 , 0.99899163, 0.9996159 , 0.99939772,\n",
       "       0.99878947, 0.9993975 , 0.99887907, 0.99959911, 0.99940906,\n",
       "       0.99940149, 0.99928417, 0.9987911 , 0.99722588, 0.9989937 ,\n",
       "       0.99959902, 0.99959928, 0.9970679 , 0.9995992 , 0.99940074,\n",
       "       0.99941818, 0.99959926, 0.99959926, 0.99924896, 0.99931885,\n",
       "       0.99919631, 0.99939784, 0.99967125, 0.99941321, 0.99959987,\n",
       "       0.99778655, 0.99914851, 0.99959965, 0.99881411, 0.99860841,\n",
       "       0.99919528, 0.99673695, 0.99859616, 0.99959926, 0.99959917,\n",
       "       0.99694989, 0.99959898, 0.9900766 , 0.99959856, 0.99919563,\n",
       "       0.99939772, 0.99923702, 0.99971043, 0.99819539, 0.99959858,\n",
       "       0.99919673, 0.99959915, 0.9594982 , 0.99919543, 0.99797543,\n",
       "       0.99879154, 0.99939824, 0.99879464, 0.99939871, 0.99959873,\n",
       "       0.99939828, 0.99921413, 0.99919538, 0.99817652, 0.99688072,\n",
       "       0.99822732, 0.99960729, 0.99959939, 0.99939894, 0.99829598,\n",
       "       0.99939953, 0.99715223, 0.99695672, 0.99945115, 0.99899394,\n",
       "       0.99939803, 0.99939832, 0.99959902, 0.999398  , 0.99959928,\n",
       "       0.98524922, 0.99943547, 0.99939727, 0.99959922, 0.99959923,\n",
       "       0.99959889, 0.99838167, 0.99919592, 0.99959882, 0.99879187,\n",
       "       0.99960108, 0.99940706, 0.99859211, 0.9979963 , 0.99838593,\n",
       "       0.9987934 , 0.99919586, 0.99636777, 0.99939732, 0.99797759,\n",
       "       0.99959971, 0.99919759, 0.99922468, 0.999599  , 0.99899367,\n",
       "       0.99961428, 0.99960702, 0.999612  , 0.99878146, 0.9995991 ,\n",
       "       0.9995988 , 0.9994089 , 0.99777982, 0.99919691, 0.99919774,\n",
       "       0.99833303, 0.99959933, 0.99858704, 0.99899437, 0.99939768,\n",
       "       0.99959905, 0.99974939, 0.99919705, 0.99859297, 0.99961369,\n",
       "       0.99858804, 0.99939755, 0.99959846, 0.9987976 , 0.99879534,\n",
       "       0.99959894, 0.99818033, 0.99939793, 0.99940674, 0.99960111,\n",
       "       0.99919676, 0.99957731, 0.99778676, 0.99899948, 0.99959909,\n",
       "       0.99678026, 0.99899502, 0.99880061, 0.99744645, 0.99920946,\n",
       "       0.99940018, 0.99959899, 0.99900928, 0.99930796, 0.99959936,\n",
       "       0.99920349, 0.99923455, 0.99797793, 0.99919615, 0.99899529,\n",
       "       0.99959923, 0.99842039, 0.99648533, 0.99899572, 0.99939768,\n",
       "       0.99959945, 0.99939801, 0.9995989 , 0.99939858, 0.99959876,\n",
       "       0.99858854, 0.9984166 , 0.98956121, 0.99487851, 0.99830389,\n",
       "       0.99879142, 0.99874069, 0.99880044, 0.99899448, 0.99959977,\n",
       "       0.99959954, 0.99818348, 0.99939786, 0.99900182, 0.9985908 ,\n",
       "       0.99920272, 0.99959926, 0.99782743, 0.99899464, 0.99959919,\n",
       "       0.98204149, 0.99858887, 0.9987902 , 0.99939735, 0.99844579,\n",
       "       0.99612975, 0.99899351, 0.9975256 , 0.99759292, 0.99960169,\n",
       "       0.99791975, 0.99876042, 0.99959905, 0.99879234, 0.992303  ,\n",
       "       0.98741607, 0.99959912, 0.99412083, 0.99899301, 0.99959861,\n",
       "       0.99959911, 0.99858967, 0.9967504 , 0.99939891, 0.99960969,\n",
       "       0.99899499, 0.99939916, 0.99960385, 0.99959958, 0.99899567,\n",
       "       0.99964635, 0.99967105, 0.99939806, 0.99949373, 0.99959899,\n",
       "       0.99919539, 0.99919857, 0.99959901, 0.99844141, 0.99912258,\n",
       "       0.99838568, 0.99273192, 0.99960211, 0.99960031, 0.99879472,\n",
       "       0.99919509, 0.99939745, 0.99880238, 0.99919689, 0.9945719 ,\n",
       "       0.99939783, 0.99753205, 0.99959902, 0.99939884, 0.99859163,\n",
       "       0.99858779, 0.99960157, 0.99919813, 0.99939816, 0.99881716,\n",
       "       0.99939805, 0.99940751, 0.99867414, 0.997572  , 0.99879264,\n",
       "       0.99879029, 0.99939871, 0.99960021, 0.998993  , 0.99919641,\n",
       "       0.99919589, 0.99939935, 0.99939735, 0.99810147, 0.99934822,\n",
       "       0.99920945, 0.99939856, 0.9996    , 0.99899661, 0.99967145,\n",
       "       0.99959923, 0.99903074, 0.99939769, 0.99959955, 0.99960087,\n",
       "       0.99959925, 0.99939771, 0.9995988 , 0.99879196, 0.99960961,\n",
       "       0.99560313, 0.99940763, 0.99899419, 0.99899884, 0.99960167,\n",
       "       0.99838641, 0.99901296, 0.99959928, 0.99939985, 0.99899417,\n",
       "       0.99694868, 0.99952216, 0.99739832, 0.99959916, 0.99919541,\n",
       "       0.9995993 , 0.99919551, 0.99940402, 0.99920078, 0.99959876,\n",
       "       0.98658128, 0.99959898, 0.99960341, 0.99283937, 0.99940762,\n",
       "       0.99919703, 0.99940019, 0.99899514, 0.9993603 , 0.99899347,\n",
       "       0.99901729, 0.99959904, 0.99919773, 0.99833827, 0.99899968,\n",
       "       0.99858508, 0.99959954, 0.99860114, 0.99878986, 0.99388568,\n",
       "       0.99777451, 0.99959939, 0.99879091, 0.99959962, 0.99959973,\n",
       "       0.99919627, 0.99959929, 0.9991962 , 0.99940346, 0.9996872 ,\n",
       "       0.98334009, 0.99899733, 0.99943649, 0.99923341, 0.99959971,\n",
       "       0.99449403, 0.99959918, 0.99959909, 0.99858954, 0.99940075,\n",
       "       0.99746878, 0.99879189, 0.99879463, 0.9989942 , 0.99939992,\n",
       "       0.99962189, 0.99919762, 0.99731807, 0.99919763, 0.99939823,\n",
       "       0.99919647, 0.99939799, 0.99899539, 0.99919807, 0.9995991 ,\n",
       "       0.99919755, 0.99959888, 0.99960014, 0.99757515, 0.99899945,\n",
       "       0.99959901, 0.99919724, 0.99953643, 0.99964607, 0.99495676,\n",
       "       0.99549145, 0.99902869, 0.99899402, 0.99716312, 0.99900246,\n",
       "       0.99960985, 0.99863369, 0.99919501, 0.99558001, 0.997772  ,\n",
       "       0.99879742, 0.99959922, 0.9952971 , 0.99971075, 0.99818358,\n",
       "       0.99959899, 0.99408084, 0.99273264, 0.9986632 , 0.99919614,\n",
       "       0.99959972, 0.99919657, 0.99288209, 0.99919571, 0.99653289,\n",
       "       0.9983905 , 0.99939958, 0.99899748, 0.99940973, 0.99959831,\n",
       "       0.99939787, 0.99939825, 0.99818412, 0.9995986 , 0.99919749,\n",
       "       0.99925134, 0.99959888, 0.98875628, 0.99939845, 0.99758055,\n",
       "       0.99968673, 0.99899915, 0.99528979, 0.99674397, 0.99899418,\n",
       "       0.99939767, 0.99880322, 0.99959892, 0.99924803, 0.99939788,\n",
       "       0.99819404, 0.99960637, 0.99838895, 0.99959881, 0.99959904,\n",
       "       0.99959875, 0.99677662, 0.99411243, 0.99927363, 0.99939703,\n",
       "       0.99959876, 0.99919749, 0.9984232 , 0.99316604, 0.99960132,\n",
       "       0.99960656, 0.99939792, 0.99795526, 0.99966061, 0.99959896,\n",
       "       0.99939823, 0.99550352, 0.99939707, 0.99948623, 0.99669092,\n",
       "       0.97645062, 0.99760842, 0.9996071 , 0.99940637, 0.9984231 ,\n",
       "       0.99819064, 0.99959921, 0.99427545, 0.99959899, 0.99961122,\n",
       "       0.99757821, 0.99959929, 0.99921445, 0.99899616, 0.99960717,\n",
       "       0.99959984, 0.99920227, 0.99852937, 0.99959902, 0.9989929 ,\n",
       "       0.9991949 , 0.99729328, 0.99855267, 0.9991901 , 0.99791601,\n",
       "       0.998383  , 0.9990212 , 0.99797579, 0.99779072, 0.99939872,\n",
       "       0.99845537, 0.99939803, 0.99718069, 0.9987905 , 0.99959861,\n",
       "       0.99858866, 0.9991968 , 0.99919535, 0.99919742, 0.99756647,\n",
       "       0.99959967, 0.99959925, 0.99879137, 0.99960508, 0.99919765,\n",
       "       0.99899517, 0.99959924, 0.99959871, 0.99939753, 0.99960152,\n",
       "       0.99899384, 0.99919938, 0.99735894, 0.99919658, 0.99901382,\n",
       "       0.99939798, 0.99899423, 0.99959905, 0.99959909, 0.9995985 ,\n",
       "       0.99610857, 0.99959885, 0.99939759, 0.99905811, 0.99939712,\n",
       "       0.99939824, 0.99940068, 0.99920813, 0.99959917, 0.99939781,\n",
       "       0.99959879, 0.99737991, 0.99839411, 0.9995999 , 0.99959926,\n",
       "       0.99919694, 0.99919689, 0.99879008, 0.99921778, 0.99939788,\n",
       "       0.99919902, 0.99679048, 0.99950986, 0.99859695, 0.99939737,\n",
       "       0.99959898, 0.99939822, 0.99939837, 0.99777405, 0.99323435,\n",
       "       0.99959893, 0.99959907, 0.99899463, 0.99859696, 0.99744968,\n",
       "       0.99951025, 0.99940804, 0.99959851, 0.99939795, 0.99961798,\n",
       "       0.99737246, 0.99919471, 0.99959951, 0.99899597, 0.99960139,\n",
       "       0.99550868, 0.99919679, 0.99919781, 0.99633946, 0.99920108,\n",
       "       0.99959993, 0.99959895, 0.9872355 , 0.99939808, 0.99778804,\n",
       "       0.99959887, 0.99919821, 0.99758415, 0.99959949, 0.99899567,\n",
       "       0.9987026 , 0.99939791, 0.99623426, 0.99939772, 0.99801177,\n",
       "       0.99839025, 0.9992578 , 0.99818628, 0.99959941, 0.99879818,\n",
       "       0.99879532, 0.998792  , 0.9989952 , 0.99756573, 0.99878897,\n",
       "       0.99818187, 0.99899418, 0.99939785, 0.99941631, 0.99940037,\n",
       "       0.99918105, 0.99939835, 0.99415288, 0.99959844, 0.99939791,\n",
       "       0.99959882, 0.99817792, 0.99939789, 0.99939798, 0.99939733,\n",
       "       0.9995987 , 0.99864084, 0.99838399, 0.99959939, 0.99940735,\n",
       "       0.99960187, 0.99959946, 0.99860198, 0.99807204, 0.99939967,\n",
       "       0.9995988 , 0.99942568, 0.99959893, 0.99974941, 0.99959918,\n",
       "       0.99900232, 0.99959947, 0.99940882, 0.99959908, 0.99838736,\n",
       "       0.99959916, 0.999601  , 0.99919917, 0.99919877, 0.99900146,\n",
       "       0.9847394 , 0.99939668, 0.9995987 , 0.99959916, 0.9979887 ,\n",
       "       0.9993984 , 0.9977697 , 0.99960533, 0.99919643, 0.99756401,\n",
       "       0.99591879, 0.99959902, 0.99959851, 0.99960682, 0.99434617,\n",
       "       0.99879164, 0.9995988 , 0.99756966, 0.99959876, 0.99615473,\n",
       "       0.99735859, 0.99919757, 0.98521099, 0.99863326, 0.9995992 ,\n",
       "       0.9984171 , 0.99516721, 0.99960024, 0.99959988, 0.99939837,\n",
       "       0.999599  , 0.99963143, 0.99960173, 0.99879202, 0.99939905,\n",
       "       0.99800025, 0.99954809, 0.99959884, 0.99959881, 0.99939763,\n",
       "       0.99811162, 0.99652868, 0.99959885, 0.9968747 , 0.99939795,\n",
       "       0.999599  , 0.99879188, 0.99943454, 0.99940026, 0.99959916,\n",
       "       0.99838423, 0.99939765, 0.99879367, 0.9995994 , 0.99838527,\n",
       "       0.99880154, 0.99939789, 0.9981958 , 0.99900585, 0.99841045,\n",
       "       0.99964916, 0.99952278, 0.995691  , 0.9991972 , 0.99899871,\n",
       "       0.99959905, 0.99838713, 0.99959885, 0.99941332, 0.99940886,\n",
       "       0.99939829, 0.99960103, 0.99879119, 0.99433027, 0.99960589,\n",
       "       0.99919836, 0.9974859 , 0.99962866, 0.99580209, 0.99960793,\n",
       "       0.99879305, 0.99919696, 0.99919545, 0.99959912, 0.99899631,\n",
       "       0.99899392, 0.99959893, 0.99919983, 0.99939755, 0.99940353,\n",
       "       0.99761222, 0.99939778, 0.99959898, 0.99959892, 0.99959901,\n",
       "       0.99959927, 0.9991659 , 0.99959916, 0.99880196, 0.99939882,\n",
       "       0.99939917, 0.99959928, 0.99858687, 0.9995988 , 0.99581397,\n",
       "       0.99924058, 0.99959892, 0.99940021, 0.99959915, 0.99939787,\n",
       "       0.99959984, 0.99859541, 0.99920125, 0.99899476, 0.99819292,\n",
       "       0.99959872, 0.99919493, 0.99960059, 0.99900046, 0.99959938,\n",
       "       0.99959896, 0.99959884, 0.99959884, 0.99939885, 0.99798211])"
      ]
     },
     "execution_count": 18,
     "metadata": {},
     "output_type": "execute_result"
    }
   ],
   "source": [
    "accuracies = np.array(list(map(calculate_accuracy, results_raw)))\n",
    "accuracies"
   ]
  },
  {
   "cell_type": "code",
   "execution_count": 20,
   "metadata": {},
   "outputs": [
    {
     "data": {
      "image/png": "[encoded data removed]",
      "text/plain": [
       "<Figure size 432x288 with 1 Axes>"
      ]
     },
     "metadata": {
      "needs_background": "light"
     },
     "output_type": "display_data"
    }
   ],
   "source": [
    "plt.plot(np.sort(accuracies), np.arange(1, 1001) / 1000, 'k.')\n",
    "# plt.axis('square')\n",
    "plt.show()"
   ]
  },
  {
   "cell_type": "code",
   "execution_count": 21,
   "metadata": {},
   "outputs": [
    {
     "data": {
      "text/plain": [
       "0.9986021659841087"
      ]
     },
     "execution_count": 21,
     "metadata": {},
     "output_type": "execute_result"
    }
   ],
   "source": [
    "np.mean(accuracies)"
   ]
  },
  {
   "cell_type": "code",
   "execution_count": 22,
   "metadata": {},
   "outputs": [
    {
     "data": {
      "text/plain": [
       "0.9594981989565784"
      ]
     },
     "execution_count": 22,
     "metadata": {},
     "output_type": "execute_result"
    }
   ],
   "source": [
    "np.min(accuracies)"
   ]
  },
  {
   "cell_type": "code",
   "execution_count": null,
   "metadata": {},
   "outputs": [],
   "source": []
  }
 ],
 "metadata": {
  "interpreter": {
   "hash": "916dbcbb3f70747c44a77c7bcd40155683ae19c65e1c03b4aa3499c5328201f1"
  },
  "kernelspec": {
   "display_name": "Python 3.9.5 64-bit",
   "language": "python",
   "name": "python3"
  },
  "language_info": {
   "codemirror_mode": {
    "name": "ipython",
    "version": 3
   },
   "file_extension": ".py",
   "mimetype": "text/x-python",
   "name": "python",
   "nbconvert_exporter": "python",
   "pygments_lexer": "ipython3",
   "version": "3.9.5"
  },
  "orig_nbformat": 4
 },
 "nbformat": 4,
 "nbformat_minor": 2
}
